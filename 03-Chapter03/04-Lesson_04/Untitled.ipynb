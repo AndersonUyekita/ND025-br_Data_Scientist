{
 "cells": [
  {
   "cell_type": "code",
   "execution_count": 1,
   "metadata": {},
   "outputs": [],
   "source": [
    "import numpy as np\n",
    "import pandas as pd"
   ]
  },
  {
   "cell_type": "code",
   "execution_count": 2,
   "metadata": {},
   "outputs": [],
   "source": [
    "pi = np.pi\n",
    "e = np.e"
   ]
  },
  {
   "cell_type": "code",
   "execution_count": 77,
   "metadata": {},
   "outputs": [],
   "source": [
    "def teste(X, mu, sigma2):\n",
    "    parte_1 = (1/np.sqrt(2 * np.pi * sigma2))\n",
    "    parte_2 = -1 * ((X - mu)**2)/(2 * sigma2)\n",
    "    resultado = parte_1*np.e**(parte_2)\n",
    "    return(resultado)"
   ]
  },
  {
   "cell_type": "code",
   "execution_count": 78,
   "metadata": {},
   "outputs": [
    {
     "data": {
      "text/plain": [
       "0.03853809192401903"
      ]
     },
     "execution_count": 78,
     "metadata": {},
     "output_type": "execute_result"
    }
   ],
   "source": [
    "teste(62., 64.63, 100.)"
   ]
  },
  {
   "cell_type": "code",
   "execution_count": 79,
   "metadata": {},
   "outputs": [
    {
     "data": {
      "text/plain": [
       "0.03466677213357917"
      ]
     },
     "execution_count": 79,
     "metadata": {},
     "output_type": "execute_result"
    }
   ],
   "source": [
    "teste(71., 76.30, 100.)"
   ]
  },
  {
   "cell_type": "code",
   "execution_count": null,
   "metadata": {},
   "outputs": [],
   "source": []
  },
  {
   "cell_type": "code",
   "execution_count": 86,
   "metadata": {},
   "outputs": [
    {
     "name": "stdout",
     "output_type": "stream",
     "text": [
      "aa: 0.0013359912511928954\n",
      "bb: 9.877707686804654e-06\n"
     ]
    }
   ],
   "source": [
    "aa = teste(62., 64.63, 100.) * teste(71., 76.30, 100.)\n",
    "bb = teste(62., 46.02, 57.) * teste(71., 51.30, 57.)\n",
    "print(\"aa:\", aa)\n",
    "print(\"bb:\", bb)\n"
   ]
  },
  {
   "cell_type": "code",
   "execution_count": 81,
   "metadata": {},
   "outputs": [
    {
     "name": "stdout",
     "output_type": "stream",
     "text": [
      "0.9926607210741921\n",
      "0.00733927892580779\n"
     ]
    }
   ],
   "source": [
    "print(aa/(aa + bb))\n",
    "print(bb/(aa + bb))"
   ]
  },
  {
   "cell_type": "code",
   "execution_count": 82,
   "metadata": {},
   "outputs": [
    {
     "name": "stdout",
     "output_type": "stream",
     "text": [
      "0.9996978331623215\n",
      "0.0003021668376783608\n"
     ]
    }
   ],
   "source": [
    "aaa = teste(58., 64.63, 100.) * teste(81., 76.30, 100.)\n",
    "bbb = teste(58., 46.02, 57.) * teste(81., 51.30, 57.)\n",
    "\n",
    "print(aaa/(aaa + bbb))\n",
    "print(bbb/(aaa + bbb))"
   ]
  },
  {
   "cell_type": "code",
   "execution_count": null,
   "metadata": {},
   "outputs": [],
   "source": []
  }
 ],
 "metadata": {
  "kernelspec": {
   "display_name": "Python 3",
   "language": "python",
   "name": "python3"
  },
  "language_info": {
   "codemirror_mode": {
    "name": "ipython",
    "version": 3
   },
   "file_extension": ".py",
   "mimetype": "text/x-python",
   "name": "python",
   "nbconvert_exporter": "python",
   "pygments_lexer": "ipython3",
   "version": "3.7.1"
  }
 },
 "nbformat": 4,
 "nbformat_minor": 2
}
