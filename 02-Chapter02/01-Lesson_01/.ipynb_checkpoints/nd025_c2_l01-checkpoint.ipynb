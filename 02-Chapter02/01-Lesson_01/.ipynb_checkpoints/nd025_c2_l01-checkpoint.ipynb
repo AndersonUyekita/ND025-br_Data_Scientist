{
 "cells": [
  {
   "cell_type": "markdown",
   "metadata": {},
   "source": [
    "# Introduction `Lesson01`\n",
    "\n",
    "##### Student Tags\n",
    "\n",
    "* Author : AH Uyekita\n",
    "* Title  :  _Linear Regression_\n",
    "* Date   : 13/02/2019\n",
    "* Course : Data Scientist Nanodegree Program\n",
    "    * COD    : ND025\n",
    "    * **Instructor:** Luis Serrano"
   ]
  },
  {
   "cell_type": "code",
   "execution_count": null,
   "metadata": {},
   "outputs": [],
   "source": [
    "import pandas as pd\n",
    "import numpy as np"
   ]
  },
  {
   "cell_type": "code",
   "execution_count": null,
   "metadata": {},
   "outputs": [],
   "source": [
    "df = pd.read_csv('02-Dataset/bmi_and_life_expectancy.csv')"
   ]
  }
 ],
 "metadata": {
  "kernelspec": {
   "display_name": "Python 3",
   "language": "python",
   "name": "python3"
  },
  "language_info": {
   "codemirror_mode": {
    "name": "ipython",
    "version": 3
   },
   "file_extension": ".py",
   "mimetype": "text/x-python",
   "name": "python",
   "nbconvert_exporter": "python",
   "pygments_lexer": "ipython3",
   "version": "3.7.1"
  }
 },
 "nbformat": 4,
 "nbformat_minor": 2
}
